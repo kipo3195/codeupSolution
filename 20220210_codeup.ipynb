{
 "cells": [
  {
   "cell_type": "code",
   "execution_count": null,
   "id": "76d7bd0e",
   "metadata": {},
   "outputs": [],
   "source": [
    "# 4596 : 최댓값 2  \n",
    "# 첫 째 줄부터 아홉 번째 줄까지 한 줄에 아홉 개씩 자연수가 주어진다. 주어지는 자연수는 100보다 작다.\n",
    "# 첫째 줄에 최대값을 출력하고, 둘째 줄에 최대값이 위치한 행 번호와 열 번호를 빈칸을 사이에 두고 차례로 출력한다.\n",
    "# 답이 여러개인 경우 그 중 하나만 출력한다.(최대값이 두 개이상 존재하는 경우)"
   ]
  },
  {
   "cell_type": "code",
   "execution_count": 34,
   "id": "ce62bdbb",
   "metadata": {},
   "outputs": [
    {
     "name": "stdout",
     "output_type": "stream",
     "text": [
      "3 23 85 34 17 74 25 52 65 10 7 39 42 88 52 14 72 63 87 42 18 78 53 45 18 84 53 34 28 64 85 12 16 75 36 55 21 77 45 35 28 75 90 76 1 25 87 65 15 28 11 37 28 74 65 27 75 41 7 89 78 64 39 47 47 70 45 23 65 3 41 44 87 13 82 38 31 12 29 29 80\n",
      "90\n",
      "5 7\n"
     ]
    }
   ],
   "source": [
    "wl = list()\n",
    "a = input()\n",
    "b = ''\n",
    "cnt = 0\n",
    "for i in range(len(a)):\n",
    "    if cnt == 0 :\n",
    "        l = list()\n",
    "    elif cnt == 9 :\n",
    "        wl.append(l)\n",
    "        l = list()\n",
    "        cnt = 0        \n",
    "    if a[i] == ' ':\n",
    "        l.append(int(b))\n",
    "        b = ''\n",
    "        cnt += 1\n",
    "        continue\n",
    "    else :\n",
    "        b += a[i]\n",
    "        \n",
    "cntx = 0\n",
    "cnty = 0\n",
    "temp = 0\n",
    "\n",
    "for i in range(len(wl)):\n",
    "    for j in range(len(wl[i])):\n",
    "        if temp == 0 :\n",
    "            temp = wl[i][j]\n",
    "        elif temp != 0 and temp < wl[i][j]:\n",
    "            temp = wl[i][j]\n",
    "            cnty = j+1\n",
    "            cntx = i+1\n",
    "\n",
    "print(temp)\n",
    "print(cntx,cnty,sep=' ')"
   ]
  }
 ],
 "metadata": {
  "kernelspec": {
   "display_name": "Python 3 (ipykernel)",
   "language": "python",
   "name": "python3"
  },
  "language_info": {
   "codemirror_mode": {
    "name": "ipython",
    "version": 3
   },
   "file_extension": ".py",
   "mimetype": "text/x-python",
   "name": "python",
   "nbconvert_exporter": "python",
   "pygments_lexer": "ipython3",
   "version": "3.9.7"
  }
 },
 "nbformat": 4,
 "nbformat_minor": 5
}
